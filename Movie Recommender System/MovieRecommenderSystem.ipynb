{
 "cells": [
  {
   "cell_type": "code",
   "execution_count": 15,
   "id": "6458ee3f",
   "metadata": {},
   "outputs": [],
   "source": [
    "import numpy as np\n",
    "import pandas as pd\n",
    "from scipy.sparse import csr_matrix\n",
    "from sklearn.neighbors import NearestNeighbors\n",
    "import warnings\n",
    "\n",
    "warnings.simplefilter(action='ignore', category=FutureWarning)"
   ]
  },
  {
   "cell_type": "code",
   "execution_count": 16,
   "id": "ff48438e",
   "metadata": {},
   "outputs": [],
   "source": [
    "def load_data():\n",
    "    ratings = pd.read_csv(\"https://s3-us-west-2.amazonaws.com/recommender-tutorial/ratings.csv\")\n",
    "    movies = pd.read_csv(\"https://s3-us-west-2.amazonaws.com/recommender-tutorial/movies.csv\")\n",
    "    return ratings, movies"
   ]
  },
  {
   "cell_type": "code",
   "execution_count": 17,
   "id": "12df59a6",
   "metadata": {},
   "outputs": [],
   "source": [
    "def preprocess_data(ratings, movies):\n",
    "    movie_stats = ratings.groupby('movieId')[['rating']].agg(['count', 'mean'])\n",
    "    movie_stats.columns = movie_stats.columns.droplevel()\n",
    "    return movie_stats\n"
   ]
  },
  {
   "cell_type": "code",
   "execution_count": 18,
   "id": "9731a078",
   "metadata": {},
   "outputs": [],
   "source": [
    "def create_matrix(df):\n",
    "    N = len(df['userId'].unique())\n",
    "    M = len(df['movieId'].unique())\n",
    "\n",
    "    user_mapper = dict(zip(np.unique(df[\"userId\"]), list(range(N))))\n",
    "    movie_mapper = dict(zip(np.unique(df[\"movieId\"]), list(range(M))))\n",
    "\n",
    "    user_inv_mapper = dict(zip(list(range(N)), np.unique(df[\"userId\"])))\n",
    "    movie_inv_mapper = dict(zip(list(range(M)), np.unique(df[\"movieId\"])))\n",
    "\n",
    "    user_index = [user_mapper[i] for i in df['userId']]\n",
    "    movie_index = [movie_mapper[i] for i in df['movieId']]\n",
    "\n",
    "    X = csr_matrix((df[\"rating\"], (movie_index, user_index)), shape=(M, N))\n",
    "\n",
    "    return X, user_mapper, movie_mapper, user_inv_mapper, movie_inv_mapper"
   ]
  },
  {
   "cell_type": "code",
   "execution_count": 19,
   "id": "af67f545",
   "metadata": {},
   "outputs": [],
   "source": [
    "def find_similar_movies(movie_id, X, k, movie_mapper, movie_inv_mapper, metric='cosine', show_distance=False):\n",
    "    neighbour_ids = []\n",
    "\n",
    "    movie_ind = movie_mapper[movie_id]\n",
    "    movie_vec = X[movie_ind]\n",
    "    k += 1\n",
    "    kNN = NearestNeighbors(n_neighbors=k, algorithm=\"brute\", metric=metric)\n",
    "    kNN.fit(X)\n",
    "    movie_vec = movie_vec.reshape(1, -1)\n",
    "    neighbour = kNN.kneighbors(movie_vec, return_distance=show_distance)\n",
    "    for i in range(0, k):\n",
    "        n = neighbour.item(i)\n",
    "        neighbour_ids.append(movie_inv_mapper[n])\n",
    "    neighbour_ids.pop(0)\n",
    "    return neighbour_ids"
   ]
  },
  {
   "cell_type": "code",
   "execution_count": 20,
   "id": "66aaff10",
   "metadata": {},
   "outputs": [],
   "source": [
    "def main():\n",
    "    ratings, movies = load_data()\n",
    "    movie_stats = preprocess_data(ratings, movies)\n",
    "    X, user_mapper, movie_mapper, user_inv_mapper, movie_inv_mapper = create_matrix(ratings)\n",
    "\n",
    "    movie_titles = dict(zip(movies['movieId'], movies['title']))\n",
    "    movie_id = 3\n",
    "\n",
    "    similar_ids = find_similar_movies(movie_id, X, 10, movie_mapper, movie_inv_mapper)\n",
    "    movie_title = movie_titles[movie_id]\n",
    "\n",
    "    print(f\"Movie Recommendations based on '{movie_title}':\")\n",
    "    print(\"------------------------------------------------\")\n",
    "    for i, sim_id in enumerate(similar_ids, start=1):\n",
    "        similar_movie_title = movie_titles[sim_id]\n",
    "        rating_count = movie_stats.loc[sim_id, 'count']\n",
    "        avg_rating = movie_stats.loc[sim_id, 'mean']\n",
    "        print(f\"{i}. {similar_movie_title} (Ratings: {rating_count}, Average Rating: {avg_rating:.2f})\")"
   ]
  },
  {
   "cell_type": "code",
   "execution_count": 21,
   "id": "9cde9eaf",
   "metadata": {},
   "outputs": [
    {
     "name": "stdout",
     "output_type": "stream",
     "text": [
      "Movie Recommendations based on 'Grumpier Old Men (1995)':\n",
      "------------------------------------------------\n",
      "1. Grumpy Old Men (1993) (Ratings: 29, Average Rating: 3.29)\n",
      "2. Striptease (1996) (Ratings: 41, Average Rating: 2.41)\n",
      "3. Nutty Professor, The (1996) (Ratings: 82, Average Rating: 2.73)\n",
      "4. Twister (1996) (Ratings: 123, Average Rating: 3.32)\n",
      "5. Father of the Bride Part II (1995) (Ratings: 49, Average Rating: 3.07)\n",
      "6. Broken Arrow (1996) (Ratings: 84, Average Rating: 3.02)\n",
      "7. Bio-Dome (1996) (Ratings: 31, Average Rating: 2.53)\n",
      "8. Truth About Cats & Dogs, The (1996) (Ratings: 58, Average Rating: 3.39)\n",
      "9. Sabrina (1995) (Ratings: 54, Average Rating: 3.19)\n",
      "10. Birdcage, The (1996) (Ratings: 86, Average Rating: 3.49)\n"
     ]
    }
   ],
   "source": [
    "if __name__ == '__main__':\n",
    "    main()\n"
   ]
  },
  {
   "cell_type": "code",
   "execution_count": null,
   "id": "223f2af6",
   "metadata": {},
   "outputs": [],
   "source": []
  }
 ],
 "metadata": {
  "kernelspec": {
   "display_name": "Python 3 (ipykernel)",
   "language": "python",
   "name": "python3"
  },
  "language_info": {
   "codemirror_mode": {
    "name": "ipython",
    "version": 3
   },
   "file_extension": ".py",
   "mimetype": "text/x-python",
   "name": "python",
   "nbconvert_exporter": "python",
   "pygments_lexer": "ipython3",
   "version": "3.9.12"
  }
 },
 "nbformat": 4,
 "nbformat_minor": 5
}
