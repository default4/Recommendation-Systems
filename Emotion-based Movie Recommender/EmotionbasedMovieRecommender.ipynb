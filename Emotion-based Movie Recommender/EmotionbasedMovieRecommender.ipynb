{
 "cells": [
  {
   "cell_type": "code",
   "execution_count": 1,
   "id": "87ce6a90",
   "metadata": {},
   "outputs": [],
   "source": [
    "from bs4 import BeautifulSoup as SOUP\n",
    "import re\n",
    "import requests as HTTP"
   ]
  },
  {
   "cell_type": "code",
   "execution_count": 2,
   "id": "5e27b6d6",
   "metadata": {},
   "outputs": [],
   "source": [
    "def get_emotion_url(emotion):\n",
    "    emotion_genre_map = {\n",
    "        \"Sad\": \"drama\",\n",
    "        \"Disgust\": \"musical\",\n",
    "        \"Anger\": \"family\",\n",
    "        \"Anticipation\": \"thriller\",\n",
    "        \"Fear\": \"sport\",\n",
    "        \"Enjoyment\": \"thriller\",\n",
    "        \"Trust\": \"western\",\n",
    "        \"Surprise\": \"film_noir\"\n",
    "    }\n",
    "\n",
    "    genre = emotion_genre_map.get(emotion)\n",
    "    if genre:\n",
    "        return f\"https://www.imdb.com/search/title?genres={genre}&title_type=feature&sort=moviemeter,asc\"\n",
    "    return None"
   ]
  },
  {
   "cell_type": "code",
   "execution_count": 3,
   "id": "4ebcb1dd",
   "metadata": {},
   "outputs": [],
   "source": [
    "def fetch_page_data(url):\n",
    "    response = HTTP.get(url)\n",
    "    return response.text"
   ]
  },
  {
   "cell_type": "code",
   "execution_count": 4,
   "id": "8c536cae",
   "metadata": {},
   "outputs": [],
   "source": [
    "def parse_data(data):\n",
    "    soup = SOUP(data, \"lxml\")\n",
    "    title_elements = soup.find_all(\"h3\", {\"class\": \"lister-item-header\"})\n",
    "    return title_elements"
   ]
  },
  {
   "cell_type": "code",
   "execution_count": 5,
   "id": "696ffcf5",
   "metadata": {},
   "outputs": [],
   "source": [
    "def extract_movie_titles(movie_elements):\n",
    "    movie_titles = []\n",
    "\n",
    "    for movie_element in movie_elements:\n",
    "        title = movie_element.find(\"a\").text\n",
    "        movie_titles.append(title)\n",
    "\n",
    "    return movie_titles"
   ]
  },
  {
   "cell_type": "code",
   "execution_count": 6,
   "id": "f617854e",
   "metadata": {},
   "outputs": [
    {
     "name": "stdout",
     "output_type": "stream",
     "text": [
      "Enter the emotion: Enjoyment\n",
      "Movie Recommendations based on 'Enjoyment':\n",
      "------------------------------------------\n",
      "1. John Wick: Kapitel 4\n",
      "2. Tetris\n",
      "3. Shazam! Fury of the Gods\n",
      "4. Blue Beetle\n",
      "5. 65\n",
      "6. The Pope's Exorcist\n",
      "7. John Wick\n",
      "8. Scream 6\n",
      "9. Inside\n",
      "10. Operation Fortune\n",
      "11. Cocaine Bear\n",
      "12. Kill Boksoon\n",
      "13. Joker: Folie à Deux\n",
      "14. John Wick: Kapitel 3\n",
      "15. I See You: Das Böse ist näher als du denkst\n",
      "16. The Menu\n",
      "17. Bholaa\n",
      "18. X\n",
      "19. John Wick: Kapitel 2\n",
      "20. Boston Strangler\n",
      "21. Massive Talent\n",
      "22. Luther: The Fallen Sun\n",
      "23. Bullet Train\n",
      "24. Killers of the Flower Moon\n",
      "25. Knock at the Cabin\n",
      "26. M3gan\n",
      "27. Extraction 2\n",
      "28. Nope\n",
      "29. Fall: Fear Reaches New Heights\n",
      "30. Glass Onion: A Knives Out Mystery\n",
      "31. Midsommar\n",
      "32. The Batman\n",
      "33. Infinity Pool\n",
      "34. Plane\n",
      "35. Super 8\n",
      "36. Scream\n",
      "37. Chor Nikal Ke Bhaga\n",
      "38. Smile - Siehst du es auch?\n",
      "39. The Deep House\n",
      "40. The Hunger Games: The Ballad of Songbirds and Snakes\n",
      "41. Girl in the Basement\n",
      "42. Die Tribute von Panem - The Hunger Games\n",
      "43. Der Gesang der Flusskrebse\n",
      "44. Fast X\n",
      "45. Missing\n",
      "46. The Dark Knight\n",
      "47. Pearl\n",
      "48. Jurassic World - Ein neues Zeitalter\n",
      "49. Bodies Bodies Bodies\n",
      "50. Inception\n"
     ]
    }
   ],
   "source": [
    "def main():\n",
    "    emotion = input(\"Enter the emotion: \")\n",
    "    url = get_emotion_url(emotion)\n",
    "\n",
    "    if url:\n",
    "        data = fetch_page_data(url)\n",
    "        movie_elements = parse_data(data)\n",
    "        movie_titles = extract_movie_titles(movie_elements)\n",
    "\n",
    "        print(f\"Movie Recommendations based on '{emotion}':\")\n",
    "        print(\"------------------------------------------\")\n",
    "        for i, title in enumerate(movie_titles, start=1):\n",
    "            print(f\"{i}. {title}\")\n",
    "    else:\n",
    "        print(\"Invalid emotion entered.\")\n",
    "        \n",
    "if __name__ == '__main__':\n",
    "    main()"
   ]
  },
  {
   "cell_type": "code",
   "execution_count": null,
   "id": "c45e3bc3",
   "metadata": {},
   "outputs": [],
   "source": []
  }
 ],
 "metadata": {
  "kernelspec": {
   "display_name": "Python 3 (ipykernel)",
   "language": "python",
   "name": "python3"
  },
  "language_info": {
   "codemirror_mode": {
    "name": "ipython",
    "version": 3
   },
   "file_extension": ".py",
   "mimetype": "text/x-python",
   "name": "python",
   "nbconvert_exporter": "python",
   "pygments_lexer": "ipython3",
   "version": "3.9.12"
  }
 },
 "nbformat": 4,
 "nbformat_minor": 5
}
